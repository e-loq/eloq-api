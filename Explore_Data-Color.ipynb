{
 "cells": [
  {
   "cell_type": "code",
   "execution_count": 206,
   "metadata": {},
   "outputs": [],
   "source": [
    "from joblib import Parallel, delayed\n",
    "import pandas as pd\n",
    "import numpy as np\n",
    "import matplotlib.pyplot as plt\n",
    "from sklearn.mixture import GaussianMixture\n",
    "from PIL import Image\n",
    "import cv2\n",
    "from tqdm import tqdm as tqdm\n",
    "from sklearn.cluster import KMeans\n",
    "import os"
   ]
  },
  {
   "cell_type": "code",
   "execution_count": 207,
   "metadata": {},
   "outputs": [
    {
     "data": {
      "text/html": [
       "<div>\n",
       "<style scoped>\n",
       "    .dataframe tbody tr th:only-of-type {\n",
       "        vertical-align: middle;\n",
       "    }\n",
       "\n",
       "    .dataframe tbody tr th {\n",
       "        vertical-align: top;\n",
       "    }\n",
       "\n",
       "    .dataframe thead th {\n",
       "        text-align: right;\n",
       "    }\n",
       "</style>\n",
       "<table border=\"1\" class=\"dataframe\">\n",
       "  <thead>\n",
       "    <tr style=\"text-align: right;\">\n",
       "      <th></th>\n",
       "      <th>cartesianX</th>\n",
       "      <th>cartesianY</th>\n",
       "      <th>cartesianZ</th>\n",
       "      <th>intensity</th>\n",
       "      <th>colorRed</th>\n",
       "      <th>colorGreen</th>\n",
       "      <th>colorBlue</th>\n",
       "      <th>label_c</th>\n",
       "    </tr>\n",
       "  </thead>\n",
       "  <tbody>\n",
       "    <tr>\n",
       "      <th>112798</th>\n",
       "      <td>-1.2325</td>\n",
       "      <td>-18.309500</td>\n",
       "      <td>-0.3285</td>\n",
       "      <td>0.199112</td>\n",
       "      <td>91</td>\n",
       "      <td>94</td>\n",
       "      <td>83</td>\n",
       "      <td>0</td>\n",
       "    </tr>\n",
       "    <tr>\n",
       "      <th>112800</th>\n",
       "      <td>-1.2265</td>\n",
       "      <td>-18.308500</td>\n",
       "      <td>-0.3275</td>\n",
       "      <td>0.367249</td>\n",
       "      <td>91</td>\n",
       "      <td>93</td>\n",
       "      <td>77</td>\n",
       "      <td>1</td>\n",
       "    </tr>\n",
       "    <tr>\n",
       "      <th>112801</th>\n",
       "      <td>-1.2315</td>\n",
       "      <td>-18.309500</td>\n",
       "      <td>-0.3235</td>\n",
       "      <td>0.194687</td>\n",
       "      <td>88</td>\n",
       "      <td>93</td>\n",
       "      <td>62</td>\n",
       "      <td>0</td>\n",
       "    </tr>\n",
       "    <tr>\n",
       "      <th>112802</th>\n",
       "      <td>-1.2265</td>\n",
       "      <td>-18.307501</td>\n",
       "      <td>-0.3205</td>\n",
       "      <td>0.389374</td>\n",
       "      <td>92</td>\n",
       "      <td>94</td>\n",
       "      <td>80</td>\n",
       "      <td>1</td>\n",
       "    </tr>\n",
       "    <tr>\n",
       "      <th>112867</th>\n",
       "      <td>-1.2105</td>\n",
       "      <td>-18.308500</td>\n",
       "      <td>-0.3295</td>\n",
       "      <td>0.327423</td>\n",
       "      <td>97</td>\n",
       "      <td>92</td>\n",
       "      <td>82</td>\n",
       "      <td>0</td>\n",
       "    </tr>\n",
       "  </tbody>\n",
       "</table>\n",
       "</div>"
      ],
      "text/plain": [
       "        cartesianX  cartesianY  cartesianZ  intensity  colorRed  colorGreen  \\\n",
       "112798     -1.2325  -18.309500     -0.3285   0.199112        91          94   \n",
       "112800     -1.2265  -18.308500     -0.3275   0.367249        91          93   \n",
       "112801     -1.2315  -18.309500     -0.3235   0.194687        88          93   \n",
       "112802     -1.2265  -18.307501     -0.3205   0.389374        92          94   \n",
       "112867     -1.2105  -18.308500     -0.3295   0.327423        97          92   \n",
       "\n",
       "        colorBlue  label_c  \n",
       "112798         83        0  \n",
       "112800         77        1  \n",
       "112801         62        0  \n",
       "112802         80        1  \n",
       "112867         82        0  "
      ]
     },
     "execution_count": 207,
     "metadata": {},
     "output_type": "execute_result"
    }
   ],
   "source": [
    "df.head()"
   ]
  },
  {
   "cell_type": "code",
   "execution_count": 208,
   "metadata": {},
   "outputs": [
    {
     "name": "stdout",
     "output_type": "stream",
     "text": [
      "(37792346, 7)\n",
      "(26038963, 7)\n"
     ]
    }
   ],
   "source": [
    "df = pd.read_pickle(\"data/df_reduced.pkl\")\n",
    "print(df.shape)\n",
    "df  = df[df.intensity > 0.1]\n",
    "print(df.shape)"
   ]
  },
  {
   "cell_type": "code",
   "execution_count": 209,
   "metadata": {},
   "outputs": [],
   "source": [
    "clustering1_inp = df[[\"intensity\"]].values"
   ]
  },
  {
   "cell_type": "code",
   "execution_count": 210,
   "metadata": {},
   "outputs": [
    {
     "name": "stderr",
     "output_type": "stream",
     "text": [
      "/home/toto/Hackathons/TrumpFFF/venv/lib/python3.7/site-packages/sklearn/cluster/_kmeans.py:934: FutureWarning: 'precompute_distances' was deprecated in version 0.23 and will be removed in 0.25. It has no effect\n",
      "  \"effect\", FutureWarning)\n",
      "/home/toto/Hackathons/TrumpFFF/venv/lib/python3.7/site-packages/sklearn/cluster/_kmeans.py:939: FutureWarning: 'n_jobs' was deprecated in version 0.23 and will be removed in 0.25.\n",
      "  \" removed in 0.25.\", FutureWarning)\n"
     ]
    }
   ],
   "source": [
    "kmeans = KMeans(n_clusters=2, random_state=0, n_jobs=20, precompute_distances=True).fit(clustering1_inp)"
   ]
  },
  {
   "cell_type": "code",
   "execution_count": 211,
   "metadata": {},
   "outputs": [],
   "source": [
    "df[\"label_c\"] = kmeans.labels_"
   ]
  },
  {
   "cell_type": "code",
   "execution_count": 212,
   "metadata": {},
   "outputs": [],
   "source": [
    "def get_distributions(df:pd.DataFrame, col:str):\n",
    "    dc = df[col]\n",
    "    dc.plot.hist(bins=90)\n",
    "    plt.show()\n",
    "    plt.close()\n",
    "    print(dc.describe())\n",
    "    return dc"
   ]
  },
  {
   "cell_type": "code",
   "execution_count": 213,
   "metadata": {},
   "outputs": [
    {
     "data": {
      "image/png": "[encoded data removed]",
      "text/plain": [
       "<Figure size 432x288 with 1 Axes>"
      ]
     },
     "metadata": {
      "needs_background": "light"
     },
     "output_type": "display_data"
    },
    {
     "name": "stdout",
     "output_type": "stream",
     "text": [
      "count    2.603896e+07\n",
      "mean     2.185853e+00\n",
      "std      3.178852e+00\n",
      "min     -2.081500e+00\n",
      "25%     -5.595000e-01\n",
      "50%      1.056500e+00\n",
      "75%      6.398500e+00\n",
      "max      7.883500e+00\n",
      "Name: cartesianZ, dtype: float64\n"
     ]
    }
   ],
   "source": [
    "dc  = get_distributions(df, \"cartesianZ\")"
   ]
  },
  {
   "cell_type": "code",
   "execution_count": 214,
   "metadata": {},
   "outputs": [],
   "source": [
    "dc_hist = np.histogram(dc.values, bins=80)"
   ]
  },
  {
   "cell_type": "code",
   "execution_count": 215,
   "metadata": {},
   "outputs": [],
   "source": [
    "hist_weights = dc_hist[0] / dc_hist[0].sum()"
   ]
  },
  {
   "cell_type": "code",
   "execution_count": 216,
   "metadata": {},
   "outputs": [],
   "source": [
    "hist_centers = dc_hist[1]"
   ]
  },
  {
   "cell_type": "code",
   "execution_count": 217,
   "metadata": {},
   "outputs": [],
   "source": [
    "sampled_data = np.random.choice(hist_centers[1:], size=10000, p = hist_weights)"
   ]
  },
  {
   "cell_type": "code",
   "execution_count": 218,
   "metadata": {},
   "outputs": [],
   "source": [
    "gmm = GaussianMixture(5)\n",
    "gmm = gmm.fit(sampled_data.reshape(-1,1))"
   ]
  },
  {
   "cell_type": "code",
   "execution_count": 219,
   "metadata": {},
   "outputs": [],
   "source": [
    "floor_id = np.argmin(gmm.means_)\n",
    "ceil_id = np.argmax(gmm.means_)\n",
    "\n",
    "floor_cutoff = (gmm.means_[floor_id] + np.sqrt(gmm.covariances_[floor_id])*2).reshape(-1)[0]\n",
    "ceil_cutoff = (gmm.means_[ceil_id] - np.sqrt(gmm.covariances_[ceil_id])*2).reshape(-1)[0]"
   ]
  },
  {
   "cell_type": "code",
   "execution_count": 220,
   "metadata": {},
   "outputs": [
    {
     "data": {
      "text/plain": [
       "-1.3395916572439275"
      ]
     },
     "execution_count": 220,
     "metadata": {},
     "output_type": "execute_result"
    }
   ],
   "source": [
    "floor_cutoff"
   ]
  },
  {
   "cell_type": "code",
   "execution_count": 221,
   "metadata": {},
   "outputs": [
    {
     "data": {
      "text/plain": [
       "6.117725003618646"
      ]
     },
     "execution_count": 221,
     "metadata": {},
     "output_type": "execute_result"
    }
   ],
   "source": [
    "ceil_cutoff"
   ]
  },
  {
   "cell_type": "code",
   "execution_count": 222,
   "metadata": {},
   "outputs": [],
   "source": [
    "df = df[df.cartesianZ > floor_cutoff]\n",
    "df = df[df.cartesianZ < ceil_cutoff-2]\n"
   ]
  },
  {
   "cell_type": "code",
   "execution_count": 223,
   "metadata": {},
   "outputs": [],
   "source": [
    "df_plot = df[[\"cartesianX\", \"cartesianY\", \"intensity\"]]"
   ]
  },
  {
   "cell_type": "code",
   "execution_count": 224,
   "metadata": {},
   "outputs": [
    {
     "data": {
      "image/png": "[encoded data removed]",
      "text/plain": [
       "<Figure size 1080x720 with 1 Axes>"
      ]
     },
     "metadata": {
      "needs_background": "light"
     },
     "output_type": "display_data"
    }
   ],
   "source": [
    "df_plot.plot.scatter(\"cartesianX\", \"cartesianY\", s = 1, figsize=(15,10))\n",
    "plt.show()"
   ]
  },
  {
   "cell_type": "code",
   "execution_count": null,
   "metadata": {},
   "outputs": [],
   "source": []
  },
  {
   "cell_type": "code",
   "execution_count": 225,
   "metadata": {},
   "outputs": [],
   "source": [
    "# Quick experiment to pixel"
   ]
  },
  {
   "cell_type": "code",
   "execution_count": 226,
   "metadata": {},
   "outputs": [],
   "source": [
    "coords = df[[\"cartesianX\", \"cartesianY\", \"cartesianZ\"]].copy()\n",
    "\n",
    "minx = coords.cartesianX.min()\n",
    "miny = coords.cartesianY.min()\n",
    "\n",
    "coords.cartesianX -= minx\n",
    "coords.cartesianY -= miny\n",
    "\n",
    "coords.cartesianX *= (100 / 4)\n",
    "coords.cartesianX = coords.cartesianX.round().astype(np.int32)\n",
    "\n",
    "coords.cartesianY *= (100 / 4)\n",
    "coords.cartesianY = coords.cartesianY.round().astype(np.int32)\n",
    "\n",
    "maxx = coords.cartesianX.max()\n",
    "maxy = coords.cartesianY.max()"
   ]
  },
  {
   "cell_type": "code",
   "execution_count": 227,
   "metadata": {},
   "outputs": [],
   "source": [
    "matrix_bw_original = np.zeros([maxx+1, maxy+1], np.uint8)\n",
    "matrix_bw_original[coords.cartesianX.values, coords.cartesianY.values] = 255\n",
    "\n",
    "# Smooth:\n",
    "img = matrix_bw_original\n",
    "\n",
    "img = cv2.medianBlur(img, 3)\n",
    "\n",
    "kernel = np.ones((3,3),np.uint8)\n",
    "img = cv2.morphologyEx(img, cv2.MORPH_OPEN, kernel)  # erosion followed by dilation\n",
    "img = cv2.morphologyEx(img, cv2.MORPH_CLOSE, kernel)  # dilation follows by erosion\n",
    "\n",
    "\n",
    "\n",
    "\n",
    "\n",
    "# # Edge Detection\n",
    "# # kernel = np.ones((9,9),np.uint8)\n",
    "# # img = cv2.erode(img,kernel,iterations = 1)\n",
    "# # img = cv2.Canny(img, 450,900, 3)\n",
    "# # TO img\n",
    "\n",
    "img = Image.fromarray(img, \"L\")\n",
    "(width, height) = (img.width // 4, img.height // 4)\n",
    "img = img.resize((width, height))\n",
    "img.save('data/image.png')\n",
    "img.show()"
   ]
  },
  {
   "cell_type": "code",
   "execution_count": 228,
   "metadata": {},
   "outputs": [],
   "source": [
    "def process_img_(img, in_loop=True, only_postprocessing = False):\n",
    "    \n",
    "    if not in_loop:\n",
    "        kernel = kernel = np.zeros((5,5),np.uint8)\n",
    "        kernel[:,2] = 1\n",
    "        img = cv2.dilate(img,kernel,iterations = 1)\n",
    "        return img\n",
    "    kernel = cv2.getStructuringElement(cv2.MORPH_CROSS,(5,5)) \n",
    "    img = cv2.dilate(img,kernel,iterations = 1)\n",
    "    \n",
    "    # Diagonal\n",
    "    kernel = np.zeros((3,3),np.uint8)\n",
    "    for i in range(kernel.shape[0]):\n",
    "        kernel[i, i] = 1\n",
    "        kernel[-i-1, i] = 1\n",
    "    img = cv2.dilate(img,kernel,iterations = 1)\n",
    "    \n",
    "    if only_postprocessing:\n",
    "        return img\n",
    "    \n",
    "    if in_loop:\n",
    "        kernel = np.ones((5,5),np.uint8)\n",
    "        img = cv2.morphologyEx(img, cv2.MORPH_CLOSE, kernel)  # dilation follows by erosion\n",
    "        #img = cv2.morphologyEx(img, cv2.MORPH_OPEN, kernel)  # erosion followed by dilation\n",
    "    return img\n"
   ]
  },
  {
   "cell_type": "code",
   "execution_count": 229,
   "metadata": {},
   "outputs": [],
   "source": [
    "def _process_horizontal_slice(coords, maxx, maxy, z_step):\n",
    "    matrix_bw_original = np.zeros([int(maxx+1), int(maxy+1)], np.uint8)\n",
    "    matrix_bw_original[coords.cartesianX.values, coords.cartesianY.values] = 255\n",
    "    # Smooth:\n",
    "    img = matrix_bw_original\n",
    "    \n",
    "    # Horizontal and Vertical\n",
    "    img = process_img_(img)\n",
    "    img_ = Image.fromarray(img, \"L\")\n",
    "    (width, height) = (img_.width // 4, img_.height // 4)\n",
    "    img_ = img_.resize((width, height))\n",
    "    img_.save(f'data/cuts/image_{z_step}.png')\n",
    "    return img"
   ]
  },
  {
   "cell_type": "code",
   "execution_count": null,
   "metadata": {},
   "outputs": [],
   "source": []
  },
  {
   "cell_type": "code",
   "execution_count": 230,
   "metadata": {},
   "outputs": [],
   "source": [
    "def process_3d(all_data: pd.DataFrame, step_z_in_m=0.05):\n",
    "    # get startx, start y coords\n",
    "\n",
    "    coords = all_data.copy()\n",
    "    \n",
    "    # Pixel per CM # TODO check this please Todor is being stupid\n",
    "    coords.cartesianX *= 50\n",
    "    coords.cartesianX = coords.cartesianX.round().astype(np.int32)\n",
    "    coords.cartesianY *= 50\n",
    "    coords.cartesianY = coords.cartesianY.round().astype(np.int32)\n",
    "\n",
    "    \n",
    "    minx = coords.cartesianX.min()\n",
    "    miny = coords.cartesianY.min()\n",
    "    \n",
    "    coords.cartesianX -= minx\n",
    "    coords.cartesianY -= miny\n",
    "    \n",
    "    maxx = coords.cartesianX.max()\n",
    "    maxy = coords.cartesianY.max()\n",
    "    \n",
    "    min_max_dict = {}\n",
    "    min_max_dict[\"minx\"] = minx\n",
    "    min_max_dict[\"miny\"] = miny\n",
    "    min_max_dict[\"maxx\"] = maxx\n",
    "    min_max_dict[\"maxy\"] = maxy\n",
    "    \n",
    "        \n",
    "    cuts = []\n",
    "    cuts_z_coord = []\n",
    "    \n",
    "    range_z = coords.cartesianZ.max() - coords.cartesianZ.min() \n",
    "    steps_z = int(np.ceil(range_z / step_z_in_m))\n",
    "    \n",
    "    current_z = coords.cartesianZ.min()\n",
    "    \n",
    "    for step in tqdm(range(steps_z)):\n",
    "        upper = current_z + step_z_in_m\n",
    "        \n",
    "        # Get data\n",
    "        cuts.append((coords[(current_z <= coords.cartesianZ) & (coords.cartesianZ < upper)])[[\"cartesianX\", \"cartesianY\"]].copy())\n",
    "        cuts_z_coord.append((current_z + upper)/2)\n",
    "        \n",
    "        \n",
    "        current_z  = upper\n",
    "    \n",
    "    \n",
    "    img_list  = Parallel(n_jobs=2)(delayed(_process_horizontal_slice)(cuts[int(i)], maxx, maxy, int(i)) for i in tqdm(range(steps_z)))\n",
    "    \n",
    "    return min_max_dict, cuts, cuts_z_coord, img_list\n",
    "    \n"
   ]
  },
  {
   "cell_type": "code",
   "execution_count": 233,
   "metadata": {},
   "outputs": [
    {
     "data": {
      "text/plain": [
       "array([0, 1], dtype=int32)"
      ]
     },
     "execution_count": 233,
     "metadata": {},
     "output_type": "execute_result"
    }
   ],
   "source": [
    "df.label_c.unique()"
   ]
  },
  {
   "cell_type": "code",
   "execution_count": 232,
   "metadata": {},
   "outputs": [
    {
     "name": "stderr",
     "output_type": "stream",
     "text": [
      "100%|██████████| 110/110 [00:02<00:00, 49.88it/s]\n",
      "100%|██████████| 110/110 [00:00<00:00, 223.78it/s]\n",
      "100%|██████████| 110/110 [00:00<00:00, 263641.97it/s]\n",
      "100%|██████████| 978/978 [00:00<00:00, 15328.27it/s]\n",
      "100%|██████████| 810/810 [00:01<00:00, 525.10it/s]\n",
      "100%|██████████| 110/110 [00:00<00:00, 154.08it/s]\n",
      "100%|██████████| 108/108 [00:00<00:00, 110.56it/s]\n",
      "100%|██████████| 108/108 [00:00<00:00, 280.10it/s]\n",
      "100%|██████████| 108/108 [00:00<00:00, 152468.81it/s]\n",
      "100%|██████████| 973/973 [00:00<00:00, 15938.64it/s]\n",
      "100%|██████████| 801/801 [00:01<00:00, 546.16it/s]\n",
      "100%|██████████| 108/108 [00:00<00:00, 167.13it/s]\n"
     ]
    }
   ],
   "source": [
    "for class_ in df[\"label_c\"].unique():\n",
    "    df_ = df[df.label_c == class_].copy()\n",
    "    min_max_dict, cuts, cuts_z_coord, img_list = process_3d(df_[[\"cartesianX\", \"cartesianY\", \"cartesianZ\"]].copy())\n",
    "    d3_img = np.stack(img_list, axis=0)\n",
    "    \n",
    "    for z in tqdm(range(d3_img.shape[0])): # move along z\n",
    "        img = d3_img[z,:,:]\n",
    "        #img = process_img_(img, only_postprocessing=True)\n",
    "        d3_img[z,:,:]  = img\n",
    "    \n",
    "    for i in tqdm(range(d3_img.shape[1])): # move along x\n",
    "        img = d3_img[:,i,:]\n",
    "        img = process_img_(img, in_loop=False)\n",
    "        d3_img[:,i,:]  = img\n",
    "\n",
    "    for j in tqdm(range(d3_img.shape[2])): # move along y\n",
    "        img = d3_img[:,:,j]\n",
    "        img = process_img_(img, in_loop=False)\n",
    "        d3_img[:,:,j]  = img\n",
    "       \n",
    "    \n",
    "    # Plot\n",
    "    for z in tqdm(range(d3_img.shape[0])): # move along z\n",
    "        img = d3_img[z,:,:]\n",
    "        img_ = Image.fromarray(img, \"L\")\n",
    "        (width, height) = (img_.width // 4, img_.height // 4)\n",
    "        img_ = img_.resize((width, height))\n",
    "        os.makedirs(f'data/col_clustered/class_{class_}/', exist_ok=True)\n",
    "        img_.save(f'data/col_clustered/class_{class_}/image_{z}.png')\n"
   ]
  },
  {
   "cell_type": "code",
   "execution_count": null,
   "metadata": {},
   "outputs": [],
   "source": []
  },
  {
   "cell_type": "code",
   "execution_count": 238,
   "metadata": {},
   "outputs": [
    {
     "name": "stderr",
     "output_type": "stream",
     "text": [
      "100%|██████████| 37/37 [00:01<00:00, 28.91it/s]\n",
      "100%|██████████| 37/37 [00:00<00:00, 153.36it/s]\n",
      "100%|██████████| 978/978 [00:00<00:00, 28141.58it/s]\n",
      "100%|██████████| 810/810 [00:00<00:00, 1551.65it/s]\n",
      "100%|██████████| 810/810 [00:00<00:00, 1542.80it/s]\n",
      "100%|██████████| 978/978 [00:00<00:00, 27774.40it/s]\n",
      "100%|██████████| 37/37 [00:02<00:00, 15.54it/s]\n"
     ]
    }
   ],
   "source": [
    "# No classes here\n",
    "\n",
    "min_max_dict, cuts, cuts_z_coord, img_list = process_3d(df[[\"cartesianX\", \"cartesianY\", \"cartesianZ\"]].copy(), 0.15)\n",
    "d3_img = np.stack(img_list, axis=0)\n",
    "\n",
    "# for z in tqdm(range(d3_img.shape[0])): # move along z\n",
    "#     img = d3_img[z,:,:]\n",
    "#     img = process_img_(img, in_loop=False)\n",
    "#     d3_img[z,:,:]  = img\n",
    "\n",
    "\n",
    "for i in tqdm(range(d3_img.shape[1])): # move along x\n",
    "    img = d3_img[:,i,:]\n",
    "    img = process_img_(img, in_loop=False)\n",
    "    d3_img[:,i,:]  = img\n",
    "\n",
    "for j in tqdm(range(d3_img.shape[2])): # move along y\n",
    "    img = d3_img[:,:,j]\n",
    "    img = process_img_(img, in_loop=False)\n",
    "    d3_img[:,:,j]  = img\n",
    "\n",
    "    \n",
    "for j in tqdm(range(d3_img.shape[2])): # move along y\n",
    "    img = d3_img[:,:,j]\n",
    "    img = process_img_(img, in_loop=False)\n",
    "    d3_img[:,:,j]  = img\n",
    "\n",
    "\n",
    "for i in tqdm(range(d3_img.shape[1])): # move along x\n",
    "    img = d3_img[:,i,:]\n",
    "    img = process_img_(img, in_loop=False)\n",
    "    d3_img[:,i,:]  = img\n",
    "       \n",
    "    \n",
    "for z in tqdm(range(d3_img.shape[0])): # move along z\n",
    "    img = d3_img[z,:,:]\n",
    "    kernel = np.zeros((3,3),np.uint8)\n",
    "    img = cv2.erode(img,kernel,iterations = 1) # Slim down\n",
    "    \n",
    "    img_ = Image.fromarray(img, \"L\")\n",
    "    \n",
    "    edged = cv2.Canny(img, 127,255,cv2.THRESH_BINARY)\n",
    "    contours,h = cv2.findContours(edged, 1, 2)\n",
    "    ####\n",
    "#     (width, height) = (img_.width // 4, img_.height // 4)\n",
    "#     img_ = img_.resize((width, height))\n",
    "    target_dir = f'data/just_filtered/'\n",
    "    os.makedirs(target_dir, exist_ok=True)\n",
    "    img_.save(f'{target_dir}/image_{z}.png')\n",
    "    \n",
    "    # Do color for labeling\n",
    "    img = cv2.cvtColor(img,cv2.COLOR_GRAY2RGB)\n",
    "    for cnt in contours:\n",
    "        approx = cv2.approxPolyDP(cnt,0.01*cv2.arcLength(cnt,True),True)\n",
    "        if len(approx)==5:\n",
    "            #print(\"pentagon\")\n",
    "            cv2.drawContours(img,[cnt],0,255,-1)\n",
    "        elif len(approx)==3:\n",
    "            #print(\"triangle\")\n",
    "            cv2.drawContours(img,[cnt],0,(0,255,0),-1)\n",
    "        elif len(approx)==4:\n",
    "            #print(\"square\")\n",
    "            cv2.drawContours(img,[cnt],0,(0,0,255),-1)\n",
    "        elif len(approx) == 9:\n",
    "            #print(\"half-circle\")\n",
    "            cv2.drawContours(img,[cnt],0,(255,255,0),-1)\n",
    "        elif len(approx) > 15:\n",
    "            #print(\"circle\")\n",
    "            cv2.drawContours(img,[cnt],0,(0,255,255),-1)\n",
    "    img = Image.fromarray(img, \"RGB\")\n",
    "    img.save(f'{target_dir}/image_{z}_labeled.png')\n"
   ]
  },
  {
   "cell_type": "code",
   "execution_count": 182,
   "metadata": {},
   "outputs": [],
   "source": [
    "final_projection = np.max(d3_img, axis=0)\n",
    "img_ = Image.fromarray(final_projection, \"L\")\n",
    "(width, height) = (img_.width // 4, img_.height // 4)\n",
    "img_ = img_.resize((width, height))\n",
    "target_dir = f'data/just_filtered/'\n",
    "os.makedirs(target_dir, exist_ok=True)\n",
    "img_.save(f'{target_dir}/image_{z}.png')\n",
    "img_.save(f'data/for_contour.png')\n"
   ]
  },
  {
   "cell_type": "code",
   "execution_count": null,
   "metadata": {},
   "outputs": [],
   "source": []
  }
 ],
 "metadata": {
  "kernelspec": {
   "display_name": "Python 3",
   "language": "python",
   "name": "python3"
  },
  "language_info": {
   "codemirror_mode": {
    "name": "ipython",
    "version": 3
   },
   "file_extension": ".py",
   "mimetype": "text/x-python",
   "name": "python",
   "nbconvert_exporter": "python",
   "pygments_lexer": "ipython3",
   "version": "3.7.7"
  }
 },
 "nbformat": 4,
 "nbformat_minor": 4
}
