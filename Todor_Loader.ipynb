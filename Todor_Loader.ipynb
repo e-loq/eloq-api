{
 "cells": [
  {
   "cell_type": "code",
   "execution_count": 16,
   "metadata": {},
   "outputs": [],
   "source": [
    "import pye57\n",
    "import numpy as np\n",
    "import pandas as pd"
   ]
  },
  {
   "cell_type": "code",
   "execution_count": 33,
   "metadata": {},
   "outputs": [],
   "source": [
    "data_raw = pye57.E57(\"data/CustomerCenter1 1.e57\")\n"
   ]
  },
  {
   "cell_type": "code",
   "execution_count": 34,
   "metadata": {},
   "outputs": [],
   "source": [
    "data = data_raw.read_scan_raw(0)"
   ]
  },
  {
   "cell_type": "code",
   "execution_count": 35,
   "metadata": {},
   "outputs": [
    {
     "data": {
      "text/plain": [
       "['cartesianX',\n",
       " 'cartesianY',\n",
       " 'cartesianZ',\n",
       " 'intensity',\n",
       " 'colorRed',\n",
       " 'colorGreen',\n",
       " 'colorBlue']"
      ]
     },
     "execution_count": 35,
     "metadata": {},
     "output_type": "execute_result"
    }
   ],
   "source": [
    "list(data.keys())"
   ]
  },
  {
   "cell_type": "code",
   "execution_count": 36,
   "metadata": {},
   "outputs": [],
   "source": [
    "collist = []\n",
    "colnames= []\n",
    "for key, val in data.items():\n",
    "    collist.append(val.reshape([-1,1]))\n",
    "    colnames.append(key)\n",
    "\n",
    "df = np.hstack(collist)\n",
    "df = pd.DataFrame(df, columns = colnames)"
   ]
  },
  {
   "cell_type": "code",
   "execution_count": 37,
   "metadata": {},
   "outputs": [],
   "source": [
    "df[\"intensity\"]  = df.intensity.astype(np.float)\n",
    "df.colorBlue = df.colorBlue.astype(np.int16)\n",
    "df.colorRed = df.colorRed.astype(np.int16)\n",
    "df.colorGreen = df.colorGreen.astype(np.int16)\n",
    "df.cartesianX = df.cartesianX.astype(np.float32)\n",
    "df.cartesianY = df.cartesianY.astype(np.float32)\n",
    "df.cartesianZ = df.cartesianZ.astype(np.float32)\n",
    "df.to_pickle(\"data/raw_data.pkl\")"
   ]
  },
  {
   "cell_type": "code",
   "execution_count": 40,
   "metadata": {},
   "outputs": [
    {
     "data": {
      "text/html": [
       "<div>\n",
       "<style scoped>\n",
       "    .dataframe tbody tr th:only-of-type {\n",
       "        vertical-align: middle;\n",
       "    }\n",
       "\n",
       "    .dataframe tbody tr th {\n",
       "        vertical-align: top;\n",
       "    }\n",
       "\n",
       "    .dataframe thead th {\n",
       "        text-align: right;\n",
       "    }\n",
       "</style>\n",
       "<table border=\"1\" class=\"dataframe\">\n",
       "  <thead>\n",
       "    <tr style=\"text-align: right;\">\n",
       "      <th></th>\n",
       "      <th>cartesianX</th>\n",
       "      <th>cartesianY</th>\n",
       "      <th>cartesianZ</th>\n",
       "      <th>intensity</th>\n",
       "      <th>colorRed</th>\n",
       "      <th>colorGreen</th>\n",
       "      <th>colorBlue</th>\n",
       "    </tr>\n",
       "  </thead>\n",
       "  <tbody>\n",
       "    <tr>\n",
       "      <th>0</th>\n",
       "      <td>-1.2265</td>\n",
       "      <td>-18.294500</td>\n",
       "      <td>-0.8055</td>\n",
       "      <td>0.048660</td>\n",
       "      <td>87</td>\n",
       "      <td>94</td>\n",
       "      <td>96</td>\n",
       "    </tr>\n",
       "    <tr>\n",
       "      <th>1</th>\n",
       "      <td>-1.2225</td>\n",
       "      <td>-18.294500</td>\n",
       "      <td>-0.8155</td>\n",
       "      <td>0.044235</td>\n",
       "      <td>83</td>\n",
       "      <td>93</td>\n",
       "      <td>73</td>\n",
       "    </tr>\n",
       "    <tr>\n",
       "      <th>2</th>\n",
       "      <td>-1.2405</td>\n",
       "      <td>-18.274500</td>\n",
       "      <td>-0.8205</td>\n",
       "      <td>0.265472</td>\n",
       "      <td>78</td>\n",
       "      <td>84</td>\n",
       "      <td>63</td>\n",
       "    </tr>\n",
       "    <tr>\n",
       "      <th>3</th>\n",
       "      <td>-1.2465</td>\n",
       "      <td>-18.282499</td>\n",
       "      <td>-0.8165</td>\n",
       "      <td>0.132736</td>\n",
       "      <td>94</td>\n",
       "      <td>97</td>\n",
       "      <td>82</td>\n",
       "    </tr>\n",
       "    <tr>\n",
       "      <th>4</th>\n",
       "      <td>-1.2465</td>\n",
       "      <td>-18.282499</td>\n",
       "      <td>-0.8235</td>\n",
       "      <td>0.137161</td>\n",
       "      <td>91</td>\n",
       "      <td>96</td>\n",
       "      <td>69</td>\n",
       "    </tr>\n",
       "  </tbody>\n",
       "</table>\n",
       "</div>"
      ],
      "text/plain": [
       "   cartesianX  cartesianY  cartesianZ  intensity  colorRed  colorGreen  \\\n",
       "0     -1.2265  -18.294500     -0.8055   0.048660        87          94   \n",
       "1     -1.2225  -18.294500     -0.8155   0.044235        83          93   \n",
       "2     -1.2405  -18.274500     -0.8205   0.265472        78          84   \n",
       "3     -1.2465  -18.282499     -0.8165   0.132736        94          97   \n",
       "4     -1.2465  -18.282499     -0.8235   0.137161        91          96   \n",
       "\n",
       "   colorBlue  \n",
       "0         96  \n",
       "1         73  \n",
       "2         63  \n",
       "3         82  \n",
       "4         69  "
      ]
     },
     "execution_count": 40,
     "metadata": {},
     "output_type": "execute_result"
    }
   ],
   "source": [
    "df.head()"
   ]
  },
  {
   "cell_type": "code",
   "execution_count": 41,
   "metadata": {},
   "outputs": [
    {
     "data": {
      "text/plain": [
       "count    1.511577e+08\n",
       "mean     7.167972e+00\n",
       "std      6.665765e+00\n",
       "min     -3.256500e+00\n",
       "25%      9.665000e-01\n",
       "50%      6.929500e+00\n",
       "75%      1.310050e+01\n",
       "max      1.882150e+01\n",
       "Name: cartesianX, dtype: float64"
      ]
     },
     "execution_count": 41,
     "metadata": {},
     "output_type": "execute_result"
    }
   ],
   "source": [
    "df.cartesianX.describe()"
   ]
  },
  {
   "cell_type": "code",
   "execution_count": 42,
   "metadata": {},
   "outputs": [
    {
     "data": {
      "text/plain": [
       "count    1.511577e+08\n",
       "mean     1.429929e+01\n",
       "std      2.177685e+01\n",
       "min     -1.921850e+01\n",
       "25%     -2.896500e+00\n",
       "50%      8.192500e+00\n",
       "75%      3.425850e+01\n",
       "max      5.692450e+01\n",
       "Name: cartesianY, dtype: float64"
      ]
     },
     "execution_count": 42,
     "metadata": {},
     "output_type": "execute_result"
    }
   ],
   "source": [
    "df.cartesianY.describe()"
   ]
  },
  {
   "cell_type": "code",
   "execution_count": 43,
   "metadata": {},
   "outputs": [
    {
     "data": {
      "text/plain": [
       "count    1.511577e+08\n",
       "mean     1.802575e+00\n",
       "std      3.227146e+00\n",
       "min     -2.761500e+00\n",
       "25%     -1.041500e+00\n",
       "50%      8.895000e-01\n",
       "75%      5.844500e+00\n",
       "max      7.987500e+00\n",
       "Name: cartesianZ, dtype: float64"
      ]
     },
     "execution_count": 43,
     "metadata": {},
     "output_type": "execute_result"
    }
   ],
   "source": [
    "df.cartesianZ.describe()"
   ]
  },
  {
   "cell_type": "code",
   "execution_count": 44,
   "metadata": {},
   "outputs": [],
   "source": [
    "df_reduced  = df[df.cartesianY <= -2.896500]"
   ]
  },
  {
   "cell_type": "code",
   "execution_count": 45,
   "metadata": {},
   "outputs": [],
   "source": [
    "df_reduced.to_pickle(\"data/df_reduced.pkl\")"
   ]
  },
  {
   "cell_type": "code",
   "execution_count": 46,
   "metadata": {},
   "outputs": [
    {
     "data": {
      "text/plain": [
       "(37792346, 7)"
      ]
     },
     "execution_count": 46,
     "metadata": {},
     "output_type": "execute_result"
    }
   ],
   "source": [
    "df_reduced.shape"
   ]
  },
  {
   "cell_type": "code",
   "execution_count": null,
   "metadata": {},
   "outputs": [],
   "source": []
  }
 ],
 "metadata": {
  "kernelspec": {
   "display_name": "Python 3",
   "language": "python",
   "name": "python3"
  },
  "language_info": {
   "codemirror_mode": {
    "name": "ipython",
    "version": 3
   },
   "file_extension": ".py",
   "mimetype": "text/x-python",
   "name": "python",
   "nbconvert_exporter": "python",
   "pygments_lexer": "ipython3",
   "version": "3.7.7"
  }
 },
 "nbformat": 4,
 "nbformat_minor": 4
}
